{
 "cells": [
  {
   "cell_type": "code",
   "execution_count": 6,
   "id": "304f9904-f6b5-4098-9eab-d4b34c5a6743",
   "metadata": {},
   "outputs": [],
   "source": [
    "import numpy as np"
   ]
  },
  {
   "cell_type": "code",
   "execution_count": 7,
   "id": "8d3a6976-31d8-4e8e-a59d-8df13860d2aa",
   "metadata": {},
   "outputs": [],
   "source": [
    "list = [20, 27, 9, 12, 31, 17, 4, 50, 39, 35]"
   ]
  },
  {
   "cell_type": "code",
   "execution_count": 9,
   "id": "8d75e538-b0f9-457e-9df1-f2d517e3bb0d",
   "metadata": {},
   "outputs": [],
   "source": [
    "import numpy as arr"
   ]
  },
  {
   "cell_type": "code",
   "execution_count": 69,
   "id": "7b5a7eef-bdd5-4e07-95a0-34bac025100f",
   "metadata": {},
   "outputs": [
    {
     "name": "stdout",
     "output_type": "stream",
     "text": [
      "[20, 27, 9, 12, 31, 17, 4, 50, 39, 35]\n",
      "[80, 108, 36, 48, 124, 68, 16, 200, 156, 140]\n",
      "[80, 108, 36, 48, 124, 68, 16, 200, 156, 140]\n",
      "[80, 108, 36, 48, 124, 68, 16, 200, 156, 140]\n",
      "[80, 108, 36, 48, 124, 68, 16, 200, 156, 140]\n",
      "[80, 108, 36, 48, 124, 68, 16, 200, 156, 140]\n",
      "[80, 108, 36, 48, 124, 68, 16, 200, 156, 140]\n",
      "[80, 108, 36, 48, 124, 68, 16, 200, 156, 140]\n",
      "[80, 108, 36, 48, 124, 68, 16, 200, 156, 140]\n",
      "[80, 108, 36, 48, 124, 68, 16, 200, 156, 140]\n",
      "[80, 108, 36, 48, 124, 68, 16, 200, 156, 140]\n",
      "23.5\n",
      "13.828955130450023\n",
      "6\n",
      "7\n",
      "4\n",
      "50\n",
      "[27 31 50 39 35]\n"
     ]
    }
   ],
   "source": [
    "# 3.1 \n",
    "\n",
    "print(list)\n",
    "\n",
    "\n",
    "outputlist = []\n",
    "for i in list:\n",
    "    constant = 4\n",
    "    outputlist = [x * constant for x in list]\n",
    "    print(outputlist)\n",
    "\n",
    "\n",
    "median_value = np.median(list)\n",
    "print(median_value)\n",
    "\n",
    "\n",
    "std_dev = np.std(list)\n",
    "print(std_dev)\n",
    "\n",
    "\n",
    "print(np.argmin(list))\n",
    "print(np.argmax(list))\n",
    "\n",
    "\n",
    "print(np.min(list))\n",
    "print(np.max(list))\n",
    "\n",
    "\n",
    "import numpy as np\n",
    "\n",
    "list = [20, 27, 9, 12, 31, 17, 4, 50, 39, 35]\n",
    "\n",
    "boolean_mask = np.array(list) > 20 \n",
    "filtered_array = np.array(list)[boolean_mask]\n",
    "print(filtered_array)"
   ]
  },
  {
   "cell_type": "code",
   "execution_count": 67,
   "id": "50490b14-fb2f-41bc-bfb0-6cf3d24ee082",
   "metadata": {},
   "outputs": [
    {
     "name": "stdout",
     "output_type": "stream",
     "text": [
      "Matrix Shape = (3, 4)\n",
      "Num Rows = 3\n",
      "Num Columns = 4\n",
      "Matrix Multiplied\n",
      "[[10 24 34 18]\n",
      " [16 42 28  6]\n",
      " [12 26 38 22]]\n",
      "Means of each column = [ 6.33333333 15.33333333 16.66666667  7.66666667]\n",
      "Overall Mean = 11.5\n",
      "Max of each row = [ 8 21 19 11]\n",
      "Flattened Array = [ 5 12 17  9  8 21 14  3  6 13 19 11]\n",
      "Min = 7\n",
      "Max = 5\n",
      "(np.int64(1), np.int64(1))\n",
      "Values greater than 15:\n",
      "Num greater than 15 [17 21 19]\n",
      "Sorted: \n",
      "[[ 5  9 12 17]\n",
      " [ 3  8 14 21]\n",
      " [ 6 11 13 19]]\n"
     ]
    }
   ],
   "source": [
    "# 3.2 \n",
    "\n",
    "matrix = [\n",
    "[5, 12, 17, 9],\n",
    "[8, 21, 14, 3],\n",
    "[6, 13, 19, 11]\n",
    "]\n",
    "\n",
    "np_matrix = np.array(matrix)\n",
    "matrixshape = np_matrix.shape\n",
    "print(\"Matrix Shape =\", matrixshape)\n",
    "\n",
    "num_rows = len(matrix)\n",
    "num_columns = len(matrix[0]) if matrix else 0\n",
    "print(\"Num Rows =\", num_rows)\n",
    "print(\"Num Columns =\", num_columns)\n",
    "\n",
    "matrixmultiply = np.array(matrix) *2\n",
    "print(\"Matrix Multiplied\")\n",
    "print(matrixmultiply)\n",
    "\n",
    "column_means = np.array(matrix).mean(axis=0)\n",
    "print(\"Means of each column =\", column_means)\n",
    "\n",
    "overall_mean = np.mean(np_matrix)\n",
    "print(\"Overall Mean =\", overall_mean)\n",
    "\n",
    "row_max = np.array(matrix).max(axis=0)\n",
    "print(\"Max of each row =\", row_max)\n",
    "\n",
    "\n",
    "flattened = np_matrix.flatten()\n",
    "\n",
    "print(\"Flattened Array =\", flattened)\n",
    "\n",
    "print(\"Min =\", np.argmin(flattened))\n",
    "print(\"Max =\", np.argmax(flattened))\n",
    "\n",
    "print(np.unravel_index(np.argmax(flattened), np_matrix.shape)) ##Stuck\n",
    "\n",
    "\n",
    "greater_than_15 = np_matrix[np_matrix > 15]\n",
    "print(\"Values greater than 15:\")\n",
    "print(\"Num greater than 15\", greater_than_15)\n",
    "\n",
    "sorted_matrix = np.sort(np_matrix, axis=1)\n",
    "print(\"Sorted: \")\n",
    "print(sorted_matrix)"
   ]
  },
  {
   "cell_type": "code",
   "execution_count": 68,
   "id": "bb9cbe68-5060-4f21-803d-8983afef40d9",
   "metadata": {},
   "outputs": [
    {
     "name": "stdout",
     "output_type": "stream",
     "text": [
      "[[ 2  3  5]\n",
      " [11 13 17]\n",
      " [ 7 10 13]]\n"
     ]
    }
   ],
   "source": [
    "### PRIME STARS\n",
    "arr = np.array([\n",
    "    [2, 3, 5],\n",
    "    [14, 6, 8],\n",
    "    [11, 13, 17],\n",
    "    [7, 10, 13]\n",
    "])\n",
    "\n",
    "def prime_row_array(matrix):\n",
    "    prime_mask = []\n",
    "    for row in matrix:\n",
    "        for val in row:\n",
    "            if (val % 2 == 0) or (val % 3 == 0):\n",
    "                prime_bool = False\n",
    "            else:\n",
    "                prime_bool = True\n",
    "        prime_mask.append(prime_bool)\n",
    "    prime_matrix = matrix[prime_mask]\n",
    "    return prime_matrix\n",
    "    \n",
    "\n",
    "\n",
    "\n",
    "\n",
    "print(prime_row_array(arr))"
   ]
  },
  {
   "cell_type": "code",
   "execution_count": 70,
   "id": "b8723e8b-89e8-4236-8345-988bc6283c16",
   "metadata": {},
   "outputs": [
    {
     "name": "stdout",
     "output_type": "stream",
     "text": [
      "[[1. 0. 1. 0. 1. 0. 1. 0.]\n",
      " [0. 1. 0. 1. 0. 1. 0. 1.]\n",
      " [1. 0. 1. 0. 1. 0. 1. 0.]\n",
      " [0. 1. 0. 1. 0. 1. 0. 1.]\n",
      " [1. 0. 1. 0. 1. 0. 1. 0.]\n",
      " [0. 1. 0. 1. 0. 1. 0. 1.]\n",
      " [1. 0. 1. 0. 1. 0. 1. 0.]\n",
      " [0. 1. 0. 1. 0. 1. 0. 1.]]\n",
      "[[0. 1. 0. 1. 0. 1. 0. 1.]\n",
      " [1. 0. 1. 0. 1. 0. 1. 0.]\n",
      " [0. 1. 0. 1. 0. 1. 0. 1.]\n",
      " [1. 0. 1. 0. 1. 0. 1. 0.]\n",
      " [0. 1. 0. 1. 0. 1. 0. 1.]\n",
      " [1. 0. 1. 0. 1. 0. 1. 0.]\n",
      " [0. 1. 0. 1. 0. 1. 0. 1.]\n",
      " [1. 0. 1. 0. 1. 0. 1. 0.]]\n"
     ]
    }
   ],
   "source": [
    "## CHECKERS\n",
    "\n",
    "#5.1\n",
    "\n",
    "def eight_by_eight():\n",
    "    board = np.zeros((8, 8))\n",
    "    return board\n",
    "\n",
    "board = eight_by_eight()\n",
    "\n",
    "\n",
    "# 5.2\n",
    "\n",
    "board[::2, ::2] = 1\n",
    "\n",
    "\n",
    "# 5.3\n",
    "\n",
    "board[1::2, 1::2] = 1\n",
    "print(board)\n",
    "\n",
    "\n",
    "# 5.4\n",
    "\n",
    "def reverse_checkerboard(board):\n",
    "    new_board = board[::-1]\n",
    "    return new_board\n",
    "\n",
    "print(reverse_checkerboard(board))"
   ]
  },
  {
   "cell_type": "code",
   "execution_count": 71,
   "id": "92bf9e73-f917-47fd-9693-26cb788a6cf5",
   "metadata": {},
   "outputs": [
    {
     "name": "stdout",
     "output_type": "stream",
     "text": [
      "['g a l a x y ', 'c l u s t e r s ']\n"
     ]
    }
   ],
   "source": [
    "## THE EXPANDING UNIVERSE\n",
    "\n",
    "universe = np.array([\"galaxy\", \"clusters\"])\n",
    "\n",
    "number = 1\n",
    "\n",
    "def expansion(string, number):\n",
    "    new_univ = []\n",
    "    \n",
    "    for word in string:\n",
    "        new_word = \"\"\n",
    "        for letter in word:  \n",
    "            new_letter = letter + (number * \" \")\n",
    "            new_word = new_word + new_letter\n",
    "        new_univ.append(new_word)\n",
    "    return new_univ\n",
    "            \n",
    "\n",
    "print(expansion(universe, number))"
   ]
  },
  {
   "cell_type": "code",
   "execution_count": 72,
   "id": "37e729c6-aa48-4559-ae04-48dac6074575",
   "metadata": {},
   "outputs": [
    {
     "name": "stdout",
     "output_type": "stream",
     "text": [
      "[[1889 1906 1846 1622 1541]\n",
      " [ 606 1647 1738  596  613]\n",
      " [1138  547  573 1442  724]\n",
      " [ 611 1933 1863 1346 1777]\n",
      " [ 920 1108 1732 1592  951]]\n",
      "[1889 1647 1138 1863 1592]\n"
     ]
    }
   ],
   "source": [
    "## SECOND BRIGHTEST STAR\n",
    "\n",
    "np.random.seed(123)\n",
    "stars = np.random.randint(500, 2000, (5, 5))\n",
    "print(stars)\n",
    "\n",
    "def secondBrightest(stars):\n",
    "    secondBrightestArray = []\n",
    "    for cluster in stars:\n",
    "        brightestStar = np.max(cluster)\n",
    "        secondBrightestStar = 0\n",
    "        for star in cluster:\n",
    "            if (star > secondBrightestStar) and (star != brightestStar):\n",
    "                secondBrightestStar = star\n",
    "        secondBrightestArray.append(secondBrightestStar)\n",
    "    return np.array(secondBrightestArray)\n",
    "            \n",
    "\n",
    "print(secondBrightest(stars))"
   ]
  },
  {
   "cell_type": "code",
   "execution_count": null,
   "id": "6d55ea95-bbe8-4586-858d-9aa05104f1c6",
   "metadata": {},
   "outputs": [],
   "source": []
  }
 ],
 "metadata": {
  "kernelspec": {
   "display_name": "Python [conda env:base] *",
   "language": "python",
   "name": "conda-base-py"
  },
  "language_info": {
   "codemirror_mode": {
    "name": "ipython",
    "version": 3
   },
   "file_extension": ".py",
   "mimetype": "text/x-python",
   "name": "python",
   "nbconvert_exporter": "python",
   "pygments_lexer": "ipython3",
   "version": "3.13.5"
  }
 },
 "nbformat": 4,
 "nbformat_minor": 5
}
