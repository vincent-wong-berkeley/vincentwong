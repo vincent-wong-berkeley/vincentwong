import numpy as np


list = [20, 27, 9, 12, 31, 17, 4, 50, 39, 35]


import numpy as arr


# 3.1 

print(list)


outputlist = []
for i in list:
    constant = 4
    outputlist = [x * constant for x in list]
    print(outputlist)


median_value = np.median(list)
print(median_value)


std_dev = np.std(list)
print(std_dev)


print(np.argmin(list))
print(np.argmax(list))


print(np.min(list))
print(np.max(list))


import numpy as np

list = [20, 27, 9, 12, 31, 17, 4, 50, 39, 35]

boolean_mask = np.array(list) > 20 
filtered_array = np.array(list)[boolean_mask]
print(filtered_array)


# 3.2 

matrix = [
[5, 12, 17, 9],
[8, 21, 14, 3],
[6, 13, 19, 11]
]

np_matrix = np.array(matrix)
matrixshape = np_matrix.shape
print("Matrix Shape =", matrixshape)

num_rows = len(matrix)
num_columns = len(matrix[0]) if matrix else 0
print("Num Rows =", num_rows)
print("Num Columns =", num_columns)

matrixmultiply = np.array(matrix) *2
print("Matrix Multiplied")
print(matrixmultiply)

column_means = np.array(matrix).mean(axis=0)
print("Means of each column =", column_means)

overall_mean = np.mean(np_matrix)
print("Overall Mean =", overall_mean)

row_max = np.array(matrix).max(axis=0)
print("Max of each row =", row_max)


flattened = np_matrix.flatten()

print("Flattened Array =", flattened)

print("Min =", np.argmin(flattened))
print("Max =", np.argmax(flattened))

print(np.unravel_index(np.argmax(flattened), np_matrix.shape)) ##Stuck, used AI here


greater_than_15 = np_matrix[np_matrix > 15]
print("Values greater than 15:")
print("Num greater than 15", greater_than_15)

sorted_matrix = np.sort(np_matrix, axis=1)
print("Sorted: ")
print(sorted_matrix)


### PRIME STARS
arr = np.array([
    [2, 3, 5],
    [14, 6, 8],
    [11, 13, 17],
    [7, 10, 13]
])

def prime_row_array(matrix):
    prime_mask = []
    for row in matrix:
        for val in row:
            if (val % 2 == 0) or (val % 3 == 0):
                prime_bool = False
            else:
                prime_bool = True
        prime_mask.append(prime_bool)
    prime_matrix = matrix[prime_mask]
    return prime_matrix
    




print(prime_row_array(arr))


## CHECKERS

#5.1

def eight_by_eight():
    board = np.zeros((8, 8))
    return board

board = eight_by_eight()


# 5.2

board[::2, ::2] = 1


# 5.3

board[1::2, 1::2] = 1
print(board)


# 5.4

def reverse_checkerboard(board):
    new_board = board[::-1]
    return new_board

print(reverse_checkerboard(board))


## THE EXPANDING UNIVERSE

universe = np.array(["galaxy", "clusters"])

number = 1

def expansion(string, number):
    new_univ = []
    
    for word in string:
        new_word = ""
        for letter in word:  
            new_letter = letter + (number * " ")
            new_word = new_word + new_letter
        new_univ.append(new_word)
    return new_univ
            

print(expansion(universe, number))


## SECOND BRIGHTEST STAR

np.random.seed(123)
stars = np.random.randint(500, 2000, (5, 5))
print(stars)

def secondBrightest(stars):
    secondBrightestArray = []
    for cluster in stars:
        brightestStar = np.max(cluster)
        secondBrightestStar = 0
        for star in cluster:
            if (star > secondBrightestStar) and (star != brightestStar):
                secondBrightestStar = star
        secondBrightestArray.append(secondBrightestStar)
    return np.array(secondBrightestArray)
            

print(secondBrightest(stars))



